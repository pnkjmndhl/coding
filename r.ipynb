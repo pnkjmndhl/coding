{
 "cells": [
  {
   "attachments": {},
   "cell_type": "markdown",
   "metadata": {
    "vscode": {
     "languageId": "r"
    }
   },
   "source": [
    "### R tutorial\n"
   ]
  },
  {
   "attachments": {},
   "cell_type": "markdown",
   "metadata": {},
   "source": [
    "### installation\n",
    "- install R from official website and add its path to environment variables\n",
    "- you should be able to run r from command prompt\n",
    "- to integrate to vscode, enter the following command in the console\n",
    "  - `install.packages('languageserver')`\n",
    "  - `install.packages(\"IRkernel')`\n",
    "  - `IRkernel::installspec()` to register the kernel in the current R installation\n",
    "    -  error jupyter not found\n",
    "  - install R extension by Yuki Ueda in vscode\n",
    "  - install Radian by Randy Lai (helps with highlighting and coloring) by using command `python -m pip install Radian`\n",
    "  - finally, goto \"Preferences: Open Settings (JSON)\" and add the folling code to JSON file, edit to match the locations\n",
    "```json\n",
    "    \"r.bracketedPaste\": true,\n",
    "    \"r.rterm.windows\": \"C:\\\\Users\\\\pdh\\\\AppData\\\\Local\\\\Programs\\\\Python\\\\Python311\\\\Scripts\\\\radian.exe\",\n",
    "    \"r.lsp.path\": \"C:\\\\Program Files\\\\R\\\\R-4.2.2\\\\bin\\\\R.exe\",\n",
    "    \"r.lsp.debug\": true,\n",
    "    \"r.lsp.diagnostics\": true,\n",
    "    \"r.rterm.option\": [\n",
    "    \"--no-save\",\n",
    "    \"--no-restore\",\n",
    "    \"--r-binary=C:\\\\Program Files\\\\R\\\\R-4.2.2\\\\bin\\\\R.exe\"\n",
    "    ],\n",
    "    \"r.rpath.windows\": \"C:\\\\Program Files\\\\R\\\\R-4.2.2\\\\bin\\\\R.exe\",\n",
    "```\n"
   ]
  },
  {
   "attachments": {},
   "cell_type": "markdown",
   "metadata": {},
   "source": [
    "#### quick notes\n",
    "- to quit the workspace use `quit()`\n",
    "- to manage profiles, open `path.expand('~')` and create a textfile named `.RProfile`, and add the following code, and let R know where to install packages\n",
    "``` \n",
    ".First <- function() {\n",
    "  path_to_libraries <- \"C:\\\\Users\\\\pdh\\\\Documents\\\\r-packages\" \n",
    "  .libPaths(c(path_to_libraries, .libPaths()))\n",
    "}\n",
    "```"
   ]
  },
  {
   "cell_type": "markdown",
   "metadata": {},
   "source": [
    "### installing addon packages"
   ]
  },
  {
   "cell_type": "code",
   "execution_count": 4,
   "metadata": {},
   "outputs": [
    {
     "ename": "NameError",
     "evalue": "name 'install' is not defined",
     "output_type": "error",
     "traceback": [
      "\u001b[1;31m---------------------------------------------------------------------------\u001b[0m",
      "\u001b[1;31mNameError\u001b[0m                                 Traceback (most recent call last)",
      "Cell \u001b[1;32mIn[4], line 1\u001b[0m\n\u001b[1;32m----> 1\u001b[0m install\u001b[39m.\u001b[39mpackages(\u001b[39m\"\u001b[39m\u001b[39mtidyverse\u001b[39m\u001b[39m\"\u001b[39m)\n\u001b[0;32m      2\u001b[0m install\u001b[39m.\u001b[39mpackages(\u001b[39m\"\u001b[39m\u001b[39mggthemes\u001b[39m\u001b[39m\"\u001b[39m)\n\u001b[0;32m      3\u001b[0m install\u001b[39m.\u001b[39mpackages(\u001b[39m\"\u001b[39m\u001b[39mcar\u001b[39m\u001b[39m\"\u001b[39m)\n",
      "\u001b[1;31mNameError\u001b[0m: name 'install' is not defined"
     ]
    }
   ],
   "source": [
    "install.packages(\"tidyverse\")\n",
    "install.packages(\"ggthemes\")\n",
    "install.packages(\"car\")\n",
    "install.packages(\"Hmisc\")\n",
    "install.packages(\"gmodels\")\n",
    "install.packages(\"lsmeans\")\n",
    "install.packages(\"multcompView\")\n",
    "install.packages(\"RcmdrMisc\")"
   ]
  },
  {
   "cell_type": "code",
   "execution_count": null,
   "metadata": {},
   "outputs": [],
   "source": []
  },
  {
   "attachments": {},
   "cell_type": "markdown",
   "metadata": {},
   "source": [
    "### running R commands\n",
    "\n"
   ]
  },
  {
   "cell_type": "code",
   "execution_count": null,
   "metadata": {},
   "outputs": [],
   "source": [
    "### creating subsets\n",
    "- "
   ]
  }
 ],
 "metadata": {
  "kernelspec": {
   "display_name": "Python 3",
   "language": "python",
   "name": "python3"
  },
  "language_info": {
   "codemirror_mode": {
    "name": "ipython",
    "version": 3
   },
   "file_extension": ".py",
   "mimetype": "text/x-python",
   "name": "python",
   "nbconvert_exporter": "python",
   "pygments_lexer": "ipython3",
   "version": "3.11.0"
  },
  "orig_nbformat": 4,
  "vscode": {
   "interpreter": {
    "hash": "5f4e7e89fbf5c9fe1135e28527e1d4d575bcc83ad5662e718a8cab13f5568073"
   }
  }
 },
 "nbformat": 4,
 "nbformat_minor": 2
}
